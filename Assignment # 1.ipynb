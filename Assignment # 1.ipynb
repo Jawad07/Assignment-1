{
 "cells": [
  {
   "cell_type": "code",
   "execution_count": 1,
   "metadata": {},
   "outputs": [
    {
     "name": "stdout",
     "output_type": "stream",
     "text": [
      "Twinkle, twinkle, little star,  \n",
      "    How I wonder what you are \n",
      "        Up above the world so high,\n",
      "        Like a diamond in the sky. \n",
      "Twinkle, twinkle, little star,  \n",
      "    How I wonder what you are \n"
     ]
    }
   ],
   "source": [
    "a=\"Twinkle, twinkle, little star,  \"\n",
    "b=\"    How I wonder what you are \"\n",
    "c=\"        Up above the world so high,\"\n",
    "d=\"        Like a diamond in the sky. \"\n",
    "print(a+ \"\\n\"+b+\"\\n\"+c+\"\\n\"+d+\"\\n\"+a+\"\\n\"+b)\n"
   ]
  },
  {
   "cell_type": "code",
   "execution_count": 2,
   "metadata": {},
   "outputs": [
    {
     "name": "stdout",
     "output_type": "stream",
     "text": [
      "3.7.4\n"
     ]
    }
   ],
   "source": [
    "import platform\n",
    "print(platform.python_version())\n"
   ]
  },
  {
   "cell_type": "code",
   "execution_count": 3,
   "metadata": {},
   "outputs": [
    {
     "name": "stdout",
     "output_type": "stream",
     "text": [
      "Current datetime is  2019-11-09 18:52:14.511800\n"
     ]
    }
   ],
   "source": [
    "from datetime import datetime\n",
    "now=datetime.now()\n",
    "print(\"Current datetime is \",now)"
   ]
  },
  {
   "cell_type": "code",
   "execution_count": 4,
   "metadata": {},
   "outputs": [
    {
     "name": "stdout",
     "output_type": "stream",
     "text": [
      "Enter a circle radius:25\n",
      "157.0\n"
     ]
    }
   ],
   "source": [
    "userinput=int(input(\"Enter a circle radius:\"))\n",
    "pi=3.14\n",
    "circle=2*pi*userinput\n",
    "print(circle)"
   ]
  },
  {
   "cell_type": "code",
   "execution_count": 6,
   "metadata": {},
   "outputs": [
    {
     "name": "stdout",
     "output_type": "stream",
     "text": [
      "Enter  first name :Jawad\n",
      "Enter second name :Abbasi\n",
      "The original name is  Jawad Abbasi\n",
      "The reverse name is  dawaJ isabbA\n"
     ]
    }
   ],
   "source": [
    "a=input(\"Enter  first name :\")\n",
    "b=input(\"Enter second name :\")\n",
    "c=a+ \" \"+b\n",
    "print(\"The original name is \",c)\n",
    "c=a[::-1] +\" \" +b[::-1]\n",
    "print(\"The reverse name is \",c)"
   ]
  },
  {
   "cell_type": "code",
   "execution_count": 7,
   "metadata": {},
   "outputs": [
    {
     "name": "stdout",
     "output_type": "stream",
     "text": [
      "Enter  first number :25\n",
      "Enter second number :75\n",
      "100\n"
     ]
    }
   ],
   "source": [
    "a=int(input(\"Enter  first number :\"))\n",
    "b=int(input(\"Enter second number :\"))\n",
    "c=a+b\n",
    "print(c)"
   ]
  },
  {
   "cell_type": "code",
   "execution_count": null,
   "metadata": {},
   "outputs": [],
   "source": []
  }
 ],
 "metadata": {
  "kernelspec": {
   "display_name": "Python 3",
   "language": "python",
   "name": "python3"
  },
  "language_info": {
   "codemirror_mode": {
    "name": "ipython",
    "version": 3
   },
   "file_extension": ".py",
   "mimetype": "text/x-python",
   "name": "python",
   "nbconvert_exporter": "python",
   "pygments_lexer": "ipython3",
   "version": "3.7.4"
  }
 },
 "nbformat": 4,
 "nbformat_minor": 2
}
