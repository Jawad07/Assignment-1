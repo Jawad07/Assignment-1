{
 "cells": [
  {
   "cell_type": "code",
   "execution_count": 31,
   "metadata": {},
   "outputs": [
    {
     "name": "stdout",
     "output_type": "stream",
     "text": [
      "Input first marks :78\n",
      "Input Second marks:85\n",
      "input Third marks :89\n",
      "Input Fourth marks :36\n",
      "Input Fifth marks :77\n",
      "The percentage is  73 %\n",
      "A\n"
     ]
    }
   ],
   "source": [
    "# Write a program which takes 5 inputs from user for different subject’s\n",
    "# marks, total it and generate mark sheet using grades ?\n",
    "\n",
    "subj1=int(input(\"Input first marks :\"))\n",
    "subj2=int(input(\"Input Second marks:\"))\n",
    "subj3=int(input(\"input Third marks :\"))\n",
    "subj4=int(input(\"Input Fourth marks :\"))\n",
    "subj5=int(input(\"Input Fifth marks :\"))\n",
    "totalmarks=500\n",
    "obtmarks=subj1+subj2+subj3+subj4+subj5\n",
    "per=int(obtmarks*100//totalmarks)\n",
    "\n",
    "print(\"The percentage is \",per ,\"%\")\n",
    "if per >= 80 and per <= 100:\n",
    "    print(\"A+\")\n",
    "elif per >=70 and per < 80 :\n",
    "    print (\"A\")\n",
    "elif per >=60 and per < 70 :\n",
    "    print (\"B\")\n",
    "else :\n",
    "    print(\"You are fail\")"
   ]
  },
  {
   "cell_type": "code",
   "execution_count": 33,
   "metadata": {},
   "outputs": [
    {
     "name": "stdout",
     "output_type": "stream",
     "text": [
      "Enter a number: 23\n",
      "This is an odd number.\n"
     ]
    }
   ],
   "source": [
    "# Write a program which take input from user and identify that the given\n",
    "# number is even or odd?\n",
    "\n",
    "number = int(input(\"Enter a number: \"))\n",
    "modulas = number % 2\n",
    "if modulas > 0:\n",
    "    print(\"This is an odd number.\")\n",
    "else:\n",
    "    print(\"This is an even number.\")\n",
    "\n"
   ]
  },
  {
   "cell_type": "code",
   "execution_count": 35,
   "metadata": {},
   "outputs": [
    {
     "name": "stdout",
     "output_type": "stream",
     "text": [
      "The list is : [25, 14, 78, 23, 2, 9, 1, 8, 4, 6]\n",
      "Length of list using naive method is : 10\n"
     ]
    }
   ],
   "source": [
    "#write a program which print the length of the list?\n",
    "\n",
    "test_list = [ 25,14,78,23,2,9,1,8,4,6 ] \n",
    "  \n",
    "# Printing test_list \n",
    "print (\"The list is : \" + str(test_list)) \n",
    "  \n",
    "# Initializing counter \n",
    "counter = 0\n",
    "for i in test_list: \n",
    "      \n",
    "    # incrementing counter \n",
    "    counter = counter + 1\n",
    "  \n",
    "# Printing length of list  \n",
    "print (\"Length of list using naive method is : \" + str(counter)) "
   ]
  },
  {
   "cell_type": "code",
   "execution_count": 38,
   "metadata": {},
   "outputs": [
    {
     "name": "stdout",
     "output_type": "stream",
     "text": [
      "150\n"
     ]
    }
   ],
   "source": [
    "#Write a Python program to sum all the numeric items in a list?\n",
    "\n",
    "\n",
    "def sum(numbers):\n",
    "    total = 0\n",
    "    for x in numbers:\n",
    "        total += x\n",
    "    return total\n",
    "print(sum((58, 2, 3, 80, 7)))\n"
   ]
  },
  {
   "cell_type": "code",
   "execution_count": 39,
   "metadata": {},
   "outputs": [
    {
     "name": "stdout",
     "output_type": "stream",
     "text": [
      "92\n"
     ]
    }
   ],
   "source": [
    "#writte a Python program to get the largest number from a numeric list\n",
    "\n",
    "def max_num_in_list( list ):\n",
    "    max = list[ 0 ]\n",
    "    for a in list:\n",
    "        if a > max:\n",
    "            max = a\n",
    "    return max\n",
    "print(max_num_in_list([15, 92, -78, 0]))\n"
   ]
  },
  {
   "cell_type": "code",
   "execution_count": 41,
   "metadata": {},
   "outputs": [
    {
     "name": "stdout",
     "output_type": "stream",
     "text": [
      "1\n",
      "1\n",
      "2\n",
      "3\n"
     ]
    }
   ],
   "source": [
    "#write a program that prints out all the elements of the list that are\n",
    "#less than 5.\n",
    "\n",
    "a = [1, 1, 2, 3, 5, 8, 13, 21, 34, 55, 89]\n",
    "\n",
    "for i in a:\n",
    "\n",
    "    if i < 5:\n",
    "\n",
    "        print(i)\n",
    "\n"
   ]
  },
  {
   "cell_type": "code",
   "execution_count": null,
   "metadata": {},
   "outputs": [],
   "source": []
  }
 ],
 "metadata": {
  "kernelspec": {
   "display_name": "Python 3",
   "language": "python",
   "name": "python3"
  },
  "language_info": {
   "codemirror_mode": {
    "name": "ipython",
    "version": 3
   },
   "file_extension": ".py",
   "mimetype": "text/x-python",
   "name": "python",
   "nbconvert_exporter": "python",
   "pygments_lexer": "ipython3",
   "version": "3.7.4"
  }
 },
 "nbformat": 4,
 "nbformat_minor": 2
}
