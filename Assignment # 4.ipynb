{
 "cells": [
  {
   "cell_type": "code",
   "execution_count": 1,
   "metadata": {},
   "outputs": [
    {
     "name": "stdout",
     "output_type": "stream",
     "text": [
      "Acessing a element using key:\n",
      "{'firstname': 'Fawad', 'lastname': 'Abbasi', 'age': 10, 'City': 'Karachi'}\n",
      "New Key {'firstname': 'Fawad', 'lastname': 'Abbasi', 'age': 10, 'City': 'Karachi', 'Qualification': 'Bachlors'}\n",
      "After Update value: {'firstname': 'Fawad', 'lastname': 'Abbasi', 'age': 10, 'City': 'Karachi', 'Qualification': 'Masters'}\n",
      "After Deleteion {'firstname': 'Fawad', 'lastname': 'Abbasi', 'age': 10, 'City': 'Karachi'}\n"
     ]
    }
   ],
   "source": [
    "#Question 1\n",
    "Dict = {'firstname': 'Fawad', 'lastname': 'Abbasi', 'age': 10,'City':'Karachi'} \n",
    "  \n",
    "# accessing a elements \n",
    "print(\"Acessing a element using key:\") \n",
    "print(Dict) \n",
    "Dict['Qualification'] ='Bachlors'\n",
    "print(\"New Key\",Dict)\n",
    "Dict['Qualification'] ='Masters'\n",
    "print(\"After Update value:\",Dict)\n",
    "del Dict['Qualification']\n",
    "print(\"After Deleteion\",Dict)\n"
   ]
  },
  {
   "cell_type": "code",
   "execution_count": 2,
   "metadata": {},
   "outputs": [
    {
     "name": "stdout",
     "output_type": "stream",
     "text": [
      "{'Hyderbad': {'Country': 'Pakistan', 'Famous': 'Rabri', 'Population': '216,565,318 '}, 'Madina': {'Country': 'Saudi Arabia', 'Famous': 'Ajwa khajoor', 'Population': '34,489,399 '}, 'Istanbul': {'Country': 'Turkey', 'Famous': 'Art', 'Population': '83,429,615 '}}\n"
     ]
    }
   ],
   "source": [
    "#Question 2\n",
    "cities={'Hyderbad': {'Country': 'Pakistan', 'Famous': 'Rabri', 'Population': '216,565,318 '}, 'Madina': {'Country': 'Saudi Arabia', 'Famous': 'Ajwa khajoor', 'Population': '34,489,399 '},'Istanbul':{'Country':'Turkey','Famous':'Art','Population':'83,429,615 '}}\n",
    "print(cities)"
   ]
  },
  {
   "cell_type": "code",
   "execution_count": 3,
   "metadata": {},
   "outputs": [
    {
     "name": "stdout",
     "output_type": "stream",
     "text": [
      "Enter Age :35\n",
      "Your Ticket Price is 12$!\n"
     ]
    }
   ],
   "source": [
    "# Question No 3\n",
    "number = int(input (\"Enter Age :\"))\n",
    "\n",
    "\n",
    "if number < 3 :\n",
    "    print(\"Your Ticket is free!\")\n",
    "elif number >=3 or number <=12:\n",
    "    print(\"Your Ticket Price is 12$!\")\n",
    "elif number >12:\n",
    "    print(\"Your Ticket price is 15$\")\n",
    "    \n"
   ]
  },
  {
   "cell_type": "code",
   "execution_count": 11,
   "metadata": {},
   "outputs": [
    {
     "name": "stdout",
     "output_type": "stream",
     "text": [
      "Enter book :Bee In the Jungle\n",
      "My Favourite book is Bee In the Jungle\n",
      "None\n"
     ]
    }
   ],
   "source": [
    "#question No 4\n",
    "\n",
    "def show_favbook(favbok):\n",
    " print(\"My Favourite book is \"+favbok)\n",
    "\n",
    "userinput=input(\"Enter book :\")\n",
    "print(show_favbook(userinput))\n"
   ]
  },
  {
   "cell_type": "code",
   "execution_count": 1,
   "metadata": {},
   "outputs": [
    {
     "name": "stdout",
     "output_type": "stream",
     "text": [
      "Guess a number (<20): 12\n",
      "Higher...\n",
      "Guess a number (<20): 16\n",
      "Lower...\n",
      "Guess a number (<20): 15\n",
      "Lower...\n",
      "Guess a number (<20): 14\n",
      "You guessed it! The number was 14 in 4 tries\n"
     ]
    }
   ],
   "source": [
    "#Question 5\n",
    "import random\n",
    " \n",
    "secret_number = random.randint(1, 20)\n",
    "tries, guess = 0, 0\n",
    "while guess != secret_number:\n",
    "    guess = int(input(\"Guess a number (<20): \"))\n",
    "    if guess > secret_number:\n",
    "        print(\"Lower...\")\n",
    "    elif guess < secret_number:\n",
    "        print(\"Higher...\")\n",
    "    tries += 1\n",
    " \n",
    "print('You guessed it! The number was {} in {} tries'.format(guess, tries))"
   ]
  },
  {
   "cell_type": "code",
   "execution_count": null,
   "metadata": {},
   "outputs": [],
   "source": []
  },
  {
   "cell_type": "code",
   "execution_count": null,
   "metadata": {},
   "outputs": [],
   "source": []
  }
 ],
 "metadata": {
  "kernelspec": {
   "display_name": "Python 3",
   "language": "python",
   "name": "python3"
  },
  "language_info": {
   "codemirror_mode": {
    "name": "ipython",
    "version": 3
   },
   "file_extension": ".py",
   "mimetype": "text/x-python",
   "name": "python",
   "nbconvert_exporter": "python",
   "pygments_lexer": "ipython3",
   "version": "3.7.4"
  }
 },
 "nbformat": 4,
 "nbformat_minor": 2
}
