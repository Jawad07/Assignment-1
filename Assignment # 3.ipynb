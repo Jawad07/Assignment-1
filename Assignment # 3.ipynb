{
 "cells": [
  {
   "cell_type": "code",
   "execution_count": 2,
   "metadata": {},
   "outputs": [
    {
     "name": "stdout",
     "output_type": "stream",
     "text": [
      "Enter your first number: 90\n",
      "Enter your second number: 5\n",
      "90 + 5 = \n",
      "The addition of number are  95\n",
      "90 - 5 = \n",
      "The Suvbtraction of Number are  85\n",
      "90 * 5 = \n",
      "The Multiplication of Number are 450\n",
      "90 / 5 = \n",
      "The Division of number are  18.0\n",
      "Enter your  number : 12\n",
      "Enter your  power number : 2\n",
      "The power of your number is  144\n"
     ]
    }
   ],
   "source": [
    "#1)Make a calculator using Python with addition , subtraction , multiplication ,\n",
    "#division and power.\n",
    "\n",
    "number_1 = int(input('Enter your first number: '))\n",
    "number_2 = int(input('Enter your second number: '))\n",
    "\n",
    "# Addition\n",
    "print('{} + {} = '.format(number_1, number_2))\n",
    "print(\"The addition of number are \",number_1 + number_2)\n",
    "\n",
    "# Subtraction\n",
    "print('{} - {} = '.format(number_1, number_2))\n",
    "print(\"The Suvbtraction of Number are \",number_1 - number_2)\n",
    "\n",
    "# Multiplication\n",
    "print('{} * {} = '.format(number_1, number_2))\n",
    "print(\"The Multiplication of Number are\",number_1 * number_2)\n",
    "\n",
    "# Division\n",
    "print('{} / {} = '.format(number_1, number_2))\n",
    "print(\"The Division of number are \",number_1 / number_2)\n",
    "\n",
    "print(\"Power portion!\")\n",
    "#Power\n",
    "number_3 = int(input('Enter your  number : '))\n",
    "powernumber = int(input('Enter your  power number : '))\n",
    "result=number_3**powernumber\n",
    "print(\"The power of your number is \",result)\n",
    "\n"
   ]
  },
  {
   "cell_type": "code",
   "execution_count": 8,
   "metadata": {},
   "outputs": [
    {
     "name": "stdout",
     "output_type": "stream",
     "text": [
      "The number is found!\n"
     ]
    }
   ],
   "source": [
    "#2. Write a program to check if there is any numeric value in list using for loop\n",
    "\n",
    "numbers = [1,5,2,8,7,45,89,23,89,256,7894,132]\n",
    "for num in numbers:\n",
    "    if num ==256:\n",
    "        print(\"The number is found!\")\n",
    "        break\n",
    "   \n",
    "else:\n",
    "    print(\"oops i did not found number!\")\n"
   ]
  },
  {
   "cell_type": "code",
   "execution_count": 15,
   "metadata": {},
   "outputs": [
    {
     "name": "stdout",
     "output_type": "stream",
     "text": [
      "{0: 10, 1: 20, 2: 30, 3: 40}\n",
      "{0: 10, 1: 20, 2: 30, 3: 40, 5: 50}\n"
     ]
    }
   ],
   "source": [
    "#3.Write a Python script to add a key to a dictionary\n",
    "jawd = {0:10, 1:20,2:30,3:40}\n",
    "print(jawd)\n",
    "jawd.update({5:50})\n",
    "print(jawd)"
   ]
  },
  {
   "cell_type": "code",
   "execution_count": 16,
   "metadata": {},
   "outputs": [
    {
     "name": "stdout",
     "output_type": "stream",
     "text": [
      "Total sum of values in the dictionary:\n",
      "2140\n"
     ]
    }
   ],
   "source": [
    "#4.Write a Python program to sum all the numeric items in a dictionary\n",
    "\n",
    "num={'A':256,'B':132,'C':789,'D':963}\n",
    "print(\"Total sum of values in the dictionary:\")\n",
    "print(sum(num.values()))\n"
   ]
  },
  {
   "cell_type": "code",
   "execution_count": 18,
   "metadata": {},
   "outputs": [
    {
     "name": "stdout",
     "output_type": "stream",
     "text": [
      "[6, 7, 11, 15, 15, 20, 20, 20, 30, 30, 40, 40, 50, 50]\n",
      "[15, 20, 30, 40, 50]\n"
     ]
    }
   ],
   "source": [
    "#5.Write a program to identify duplicate values from list\n",
    "\n",
    "my_list = [20,30,20,30,40,50,15,11,20,40,50,15,6,7]\n",
    " \n",
    "my_list.sort()\n",
    "print(my_list)\n",
    " \n",
    "new_list = sorted(set(my_list))\n",
    "dup_list =[]\n",
    " \n",
    " \n",
    "for i in range(len(new_list)):\n",
    "        if (my_list.count(new_list[i]) > 1 ):\n",
    "            dup_list.append(new_list[i])\n",
    "        \n",
    "print(dup_list) "
   ]
  },
  {
   "cell_type": "code",
   "execution_count": 23,
   "metadata": {},
   "outputs": [
    {
     "name": "stdout",
     "output_type": "stream",
     "text": [
      "Key is present in the dictionary\n",
      "Key is not present in the dictionary\n"
     ]
    }
   ],
   "source": [
    "# 6.Write a Python script to check if a given key already exists in a dictionary.\n",
    "\n",
    "number = {1: 10, 2: 20, 3: 30, 4: 40, 5: 50, 6: 60}\n",
    "def is_key_present(x):\n",
    "  if x in number:\n",
    "      print('Key is present in the dictionary')\n",
    "  else:\n",
    "      print('Key is not present in the dictionary')\n",
    "is_key_present(5)\n",
    "is_key_present(9)"
   ]
  },
  {
   "cell_type": "code",
   "execution_count": null,
   "metadata": {},
   "outputs": [],
   "source": []
  },
  {
   "cell_type": "code",
   "execution_count": null,
   "metadata": {},
   "outputs": [],
   "source": []
  }
 ],
 "metadata": {
  "kernelspec": {
   "display_name": "Python 3",
   "language": "python",
   "name": "python3"
  },
  "language_info": {
   "codemirror_mode": {
    "name": "ipython",
    "version": 3
   },
   "file_extension": ".py",
   "mimetype": "text/x-python",
   "name": "python",
   "nbconvert_exporter": "python",
   "pygments_lexer": "ipython3",
   "version": "3.7.4"
  }
 },
 "nbformat": 4,
 "nbformat_minor": 2
}
